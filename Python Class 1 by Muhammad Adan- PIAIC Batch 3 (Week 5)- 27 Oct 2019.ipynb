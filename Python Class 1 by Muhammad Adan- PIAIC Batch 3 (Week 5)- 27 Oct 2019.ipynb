{
 "cells": [
  {
   "cell_type": "markdown",
   "metadata": {},
   "source": [
    "# Python Class 1\n",
    "   * Jupyter Intro: Cell+Kernel+Download \n",
    "   * Printing and displaying messages(strings) and numbers -->keywords\n",
    "   * Commenting\n",
    "   * Primitive Data Types\n",
    "     * Strings: \n",
    "       - Singleline ', \" \n",
    "       - Multiline \"\"\", '''\n",
    "     * Variables for\n",
    "       - string\n",
    "     * Variables vs Strings\n",
    "     * Variables for\n",
    "       - bool \n",
    "       - int \n",
    "       - float\n",
    "   * Basic Operations: +, -, *, /\n",
    "   * Legal and Illegal Variable Names\n",
    "   \n",
    "   "
   ]
  },
  {
   "cell_type": "code",
   "execution_count": 2,
   "metadata": {},
   "outputs": [
    {
     "name": "stdout",
     "output_type": "stream",
     "text": [
      "Hello world\n"
     ]
    }
   ],
   "source": [
    "# printing and displaying\n",
    "print(\"Hello world\")"
   ]
  },
  {
   "cell_type": "markdown",
   "metadata": {},
   "source": [
    "**Printing Integers**"
   ]
  },
  {
   "cell_type": "code",
   "execution_count": 7,
   "metadata": {},
   "outputs": [
    {
     "name": "stdout",
     "output_type": "stream",
     "text": [
      "2\n"
     ]
    }
   ],
   "source": [
    "# printing an Integer with python\n",
    "print(175)\n",
    "\n",
    "# printing a string made of Integer (number) characters with python\n",
    "print(\"2019\")"
   ]
  },
  {
   "cell_type": "code",
   "execution_count": 40,
   "metadata": {},
   "outputs": [],
   "source": [
    "# this is how a comment looks in python code\n",
    "# every comment line starts with the # symbol"
   ]
  },
  {
   "cell_type": "markdown",
   "metadata": {},
   "source": [
    "**Single and double quotes strings**"
   ]
  },
  {
   "cell_type": "code",
   "execution_count": null,
   "metadata": {},
   "outputs": [],
   "source": [
    "# examples of printing strings with single and double quotes\n",
    "print('strings go in single')\n",
    "print(\"or double quotes\")"
   ]
  },
  {
   "cell_type": "code",
   "execution_count": 39,
   "metadata": {
    "scrolled": true
   },
   "outputs": [
    {
     "name": "stdout",
     "output_type": "stream",
     "text": [
      "Muhammad Adan Abid\n",
      "Batch 3\n",
      "Muhammad Adan Abid Batch 3\n"
     ]
    }
   ],
   "source": [
    "# Example to print in one line with space\n",
    "print('Muhammad Adan Abid')\n",
    "print(\"Batch 3\")\n",
    "print(\"Muhammad Adan Abid\",\"Batch 3\")"
   ]
  },
  {
   "cell_type": "markdown",
   "metadata": {},
   "source": [
    "**Multi-line quotes strings**"
   ]
  },
  {
   "cell_type": "code",
   "execution_count": 3,
   "metadata": {},
   "outputs": [
    {
     "name": "stdout",
     "output_type": "stream",
     "text": [
      " \n",
      "PIAIC Islamabad ID card\n",
      "Name : Muhammad Adan Abid\n",
      "Father Name: Muhammad Abid Javed\n",
      "Batch: 3\n",
      "University: Bahria University\n",
      "\n"
     ]
    }
   ],
   "source": [
    "print(''' \n",
    "PIAIC Islamabad ID card\n",
    "Name : Muhammad Adan Abid\n",
    "Father Name: Muhammad Abid Javed\n",
    "Batch: 3\n",
    "University: Bahria University\n",
    "''')\n",
    "#print(\" PIAIC\n",
    "#Islam....\")"
   ]
  },
  {
   "cell_type": "markdown",
   "metadata": {},
   "source": [
    "### Variables\n",
    "**Initializing variables**\n",
    "\n",
    "**literals & variables in printing**\n",
    "\n",
    "**Variable re-assignment**"
   ]
  },
  {
   "cell_type": "code",
   "execution_count": 5,
   "metadata": {},
   "outputs": [
    {
     "name": "stdout",
     "output_type": "stream",
     "text": [
      "\n",
      "PIAIC Islamabad ID card\n",
      "Name : Muhammad Adan Abid\n",
      "Father Name: Muhammad Abid Javed\n",
      "Batch: 3\n",
      "University: Bahria University\n",
      "\n"
     ]
    }
   ],
   "source": [
    "id_card_1 = '''\n",
    "PIAIC Islamabad ID card\n",
    "Name : Muhammad Adan Abid\n",
    "Father Name: Muhammad Abid Javed\n",
    "Batch: 3\n",
    "University: Bahria University\n",
    "'''\n",
    "print(id_card_1)"
   ]
  },
  {
   "cell_type": "code",
   "execution_count": 6,
   "metadata": {},
   "outputs": [
    {
     "name": "stdout",
     "output_type": "stream",
     "text": [
      "Adan\n",
      "Adan\n"
     ]
    }
   ],
   "source": [
    "# use of variable at different places in code\n",
    "name = \"Adan\"\n",
    "print(name)\n",
    "print(name)"
   ]
  },
  {
   "cell_type": "code",
   "execution_count": 7,
   "metadata": {},
   "outputs": [
    {
     "name": "stdout",
     "output_type": "stream",
     "text": [
      "Farhan\n"
     ]
    }
   ],
   "source": [
    "# assign a new string to the variable\n",
    "name = \"Farhan\"\n",
    "print(name)"
   ]
  },
  {
   "cell_type": "markdown",
   "metadata": {},
   "source": [
    "**Data Types in Variables**"
   ]
  },
  {
   "cell_type": "code",
   "execution_count": 43,
   "metadata": {},
   "outputs": [],
   "source": [
    "item_price = 10.25 # floating point number also called simply float\n",
    "item_quantity = 25 # interger or whole number\n",
    "name =\"Ahmed Khan\" #name initialized as a string\n",
    "flag = True        #flag initialized as True\n",
    "flag1 = False "
   ]
  },
  {
   "cell_type": "code",
   "execution_count": 12,
   "metadata": {},
   "outputs": [],
   "source": [
    "weight = 150\n",
    "extra = 25\n",
    "multiplier = 2.5"
   ]
  },
  {
   "cell_type": "code",
   "execution_count": 13,
   "metadata": {},
   "outputs": [],
   "source": [
    "new_weight = weight + 25\n",
    "new_weight = weight + extra\n",
    "weight = weight + 10"
   ]
  },
  {
   "cell_type": "code",
   "execution_count": 14,
   "metadata": {},
   "outputs": [
    {
     "name": "stdout",
     "output_type": "stream",
     "text": [
      "185\n",
      "175\n",
      "160 2.5\n"
     ]
    }
   ],
   "source": [
    "print(weight + 25)\n",
    "print(new_weight)\n",
    "print(weight,multiplier)"
   ]
  },
  {
   "cell_type": "code",
   "execution_count": 58,
   "metadata": {},
   "outputs": [
    {
     "name": "stdout",
     "output_type": "stream",
     "text": [
      "True\n",
      "False\n",
      "1.0\n"
     ]
    }
   ],
   "source": [
    "print(flag)\n",
    "print(flag1)\n",
    "print(flag+flag1*flag/flag)"
   ]
  },
  {
   "cell_type": "code",
   "execution_count": 48,
   "metadata": {},
   "outputs": [
    {
     "ename": "TypeError",
     "evalue": "can only concatenate str (not \"int\") to str",
     "output_type": "error",
     "traceback": [
      "\u001b[1;31m---------------------------------------------------------------------------\u001b[0m",
      "\u001b[1;31mTypeError\u001b[0m                                 Traceback (most recent call last)",
      "\u001b[1;32m<ipython-input-48-a9da06ccfc0b>\u001b[0m in \u001b[0;36m<module>\u001b[1;34m\u001b[0m\n\u001b[1;32m----> 1\u001b[1;33m \u001b[0mweight\u001b[0m \u001b[1;33m=\u001b[0m\u001b[1;34m\"150\"\u001b[0m \u001b[1;33m+\u001b[0m \u001b[1;36m7\u001b[0m\u001b[1;33m\u001b[0m\u001b[1;33m\u001b[0m\u001b[0m\n\u001b[0m",
      "\u001b[1;31mTypeError\u001b[0m: can only concatenate str (not \"int\") to str"
     ]
    }
   ],
   "source": [
    "weight =\"150\" + 7"
   ]
  },
  {
   "cell_type": "code",
   "execution_count": 8,
   "metadata": {},
   "outputs": [
    {
     "name": "stdout",
     "output_type": "stream",
     "text": [
      "22\n",
      "Ahmed\n"
     ]
    }
   ],
   "source": [
    "# modifying a variable and re-assigning to a different data type\n",
    "test_value = 22\n",
    "print(test_value)\n",
    "test_value = \"Ahmed\"\n",
    "print(test_value)"
   ]
  },
  {
   "cell_type": "code",
   "execution_count": 9,
   "metadata": {},
   "outputs": [
    {
     "name": "stdout",
     "output_type": "stream",
     "text": [
      "3 4 5\n"
     ]
    }
   ],
   "source": [
    "x = 3\n",
    "y = 4\n",
    "x,y,z = 3,4,5\n",
    "print(x,y,z)"
   ]
  },
  {
   "cell_type": "markdown",
   "metadata": {},
   "source": [
    "**Basic Arithematic Operations**"
   ]
  },
  {
   "cell_type": "code",
   "execution_count": 53,
   "metadata": {},
   "outputs": [],
   "source": [
    "# Operations, Operators and Operands\n",
    "# 5 + 7 --> Operations\n",
    "# +, -, *, / --> Operators\n",
    "# 5,7 -->Operands"
   ]
  },
  {
   "cell_type": "code",
   "execution_count": 54,
   "metadata": {},
   "outputs": [
    {
     "name": "stdout",
     "output_type": "stream",
     "text": [
      "4\n"
     ]
    }
   ],
   "source": [
    "2 + 2\n",
    "print(2 + 2)\n",
    "plot = 5 * 5\n",
    "loss = 2 - 5\n",
    "double = 24/3"
   ]
  },
  {
   "cell_type": "code",
   "execution_count": 55,
   "metadata": {},
   "outputs": [
    {
     "name": "stdout",
     "output_type": "stream",
     "text": [
      "25\n",
      "-3\n",
      "8.0\n"
     ]
    }
   ],
   "source": [
    "print(plot)\n",
    "print(loss)\n",
    "print(double)"
   ]
  },
  {
   "cell_type": "code",
   "execution_count": 15,
   "metadata": {},
   "outputs": [
    {
     "name": "stdout",
     "output_type": "stream",
     "text": [
      "64.0\n"
     ]
    }
   ],
   "source": [
    "new_weight = weight / multiplier\n",
    "print(new_weight)"
   ]
  },
  {
   "cell_type": "markdown",
   "metadata": {},
   "source": [
    "**Division by Zero**"
   ]
  },
  {
   "cell_type": "code",
   "execution_count": 16,
   "metadata": {},
   "outputs": [
    {
     "ename": "ZeroDivisionError",
     "evalue": "float division by zero",
     "output_type": "error",
     "traceback": [
      "\u001b[1;31m---------------------------------------------------------------------------\u001b[0m",
      "\u001b[1;31mZeroDivisionError\u001b[0m                         Traceback (most recent call last)",
      "\u001b[1;32m<ipython-input-16-223d50b73858>\u001b[0m in \u001b[0;36m<module>\u001b[1;34m\u001b[0m\n\u001b[1;32m----> 1\u001b[1;33m \u001b[0mprint\u001b[0m\u001b[1;33m(\u001b[0m\u001b[0mnew_weight\u001b[0m \u001b[1;33m/\u001b[0m \u001b[1;36m0\u001b[0m\u001b[1;33m)\u001b[0m\u001b[1;33m\u001b[0m\u001b[1;33m\u001b[0m\u001b[0m\n\u001b[0m",
      "\u001b[1;31mZeroDivisionError\u001b[0m: float division by zero"
     ]
    }
   ],
   "source": [
    "print(new_weight / 0)"
   ]
  },
  {
   "cell_type": "markdown",
   "metadata": {},
   "source": [
    "# Legal Variable Names\n",
    "###### Cannot be\n",
    " * Cannot be Python __Reserved__ words\n",
    " * Cannot be only number\n",
    " * Cannot start with number\n",
    " * Cannot be spaces between multi-word variable\n",
    " * Cannot be enclosed in quotation marks\n",
    " \n",
    " \n",
    "###### Can be\n",
    " * Only with lowercase, uppercase, number(at end or in middle) and underscores\n",
    " * Case-Sensitive\n",
    " * Breaking-up multi-word with underscores"
   ]
  }
 ],
 "metadata": {
  "kernelspec": {
   "display_name": "Python 3",
   "language": "python",
   "name": "python3"
  },
  "language_info": {
   "codemirror_mode": {
    "name": "ipython",
    "version": 3
   },
   "file_extension": ".py",
   "mimetype": "text/x-python",
   "name": "python",
   "nbconvert_exporter": "python",
   "pygments_lexer": "ipython3",
   "version": "3.7.1"
  }
 },
 "nbformat": 4,
 "nbformat_minor": 2
}
