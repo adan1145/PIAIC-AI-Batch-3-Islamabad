{
 "cells": [
  {
   "cell_type": "code",
   "execution_count": 12,
   "metadata": {},
   "outputs": [
    {
     "name": "stdout",
     "output_type": "stream",
     "text": [
      "2.45\n",
      "3.22\n"
     ]
    }
   ],
   "source": [
    "# Dictionaries\n",
    "# int a = [1 , 2 , 3 , 4]\n",
    "# float b = [2.0,3.0,4.0]\n",
    "l = [1, 'abc' , 2.45]\n",
    "#    0    1      2\n",
    "#    -3    -2        -1\n",
    "print(l[-1])\n",
    "l[-1] = 3.22\n",
    "print(l[-1])\n"
   ]
  },
  {
   "cell_type": "code",
   "execution_count": 14,
   "metadata": {},
   "outputs": [
    {
     "name": "stdout",
     "output_type": "stream",
     "text": [
      "{'id': 2, 'name': 'Adan', 'Batch': 3.0}\n"
     ]
    }
   ],
   "source": [
    "# key:value\n",
    "d = {'id' : 2, \n",
    "    'name' : 'Adan',\n",
    "    'Batch' : 3.0}\n",
    "\n",
    "print(d)"
   ]
  },
  {
   "cell_type": "code",
   "execution_count": 13,
   "metadata": {},
   "outputs": [
    {
     "name": "stdout",
     "output_type": "stream",
     "text": [
      "{'id': 2, 'name': 'Adan', 'Batch': 3.0}\n"
     ]
    }
   ],
   "source": [
    "d1 = {}\n",
    "d1['id'] = 2\n",
    "d1['name'] = 'Adan'\n",
    "d1['Batch'] = 3.0\n",
    "print(d1)"
   ]
  },
  {
   "cell_type": "code",
   "execution_count": 15,
   "metadata": {},
   "outputs": [
    {
     "name": "stdout",
     "output_type": "stream",
     "text": [
      "{'id': 2, 'name': 'Adan', 'Batch': 3.0}\n",
      "{}\n"
     ]
    }
   ],
   "source": [
    "print(d1)\n",
    "d1.clear()\n",
    "print(d1)"
   ]
  },
  {
   "cell_type": "code",
   "execution_count": 16,
   "metadata": {},
   "outputs": [
    {
     "name": "stdout",
     "output_type": "stream",
     "text": [
      "{}\n"
     ]
    },
    {
     "ename": "NameError",
     "evalue": "name 'd1' is not defined",
     "output_type": "error",
     "traceback": [
      "\u001b[1;31m---------------------------------------------------------------------------\u001b[0m",
      "\u001b[1;31mNameError\u001b[0m                                 Traceback (most recent call last)",
      "\u001b[1;32m<ipython-input-16-0f6bf3d4cf22>\u001b[0m in \u001b[0;36m<module>\u001b[1;34m\u001b[0m\n\u001b[0;32m      1\u001b[0m \u001b[0mprint\u001b[0m\u001b[1;33m(\u001b[0m\u001b[0md1\u001b[0m\u001b[1;33m)\u001b[0m\u001b[1;33m\u001b[0m\u001b[1;33m\u001b[0m\u001b[0m\n\u001b[0;32m      2\u001b[0m \u001b[1;32mdel\u001b[0m \u001b[0md1\u001b[0m\u001b[1;33m\u001b[0m\u001b[1;33m\u001b[0m\u001b[0m\n\u001b[1;32m----> 3\u001b[1;33m \u001b[0mprint\u001b[0m\u001b[1;33m(\u001b[0m\u001b[0md1\u001b[0m\u001b[1;33m)\u001b[0m\u001b[1;33m\u001b[0m\u001b[1;33m\u001b[0m\u001b[0m\n\u001b[0m",
      "\u001b[1;31mNameError\u001b[0m: name 'd1' is not defined"
     ]
    }
   ],
   "source": [
    "print(d1)\n",
    "del d1\n",
    "print(d1)"
   ]
  },
  {
   "cell_type": "code",
   "execution_count": 18,
   "metadata": {},
   "outputs": [
    {
     "name": "stdout",
     "output_type": "stream",
     "text": [
      "{'id': 2, 'name': 'Adan', 'Batch': 3.0}\n",
      "{'id': 2, 'name': 'Adan', 'Batch': 3.0}\n",
      "{'id': 2, 'name': 'Adan', 'Batch': 3.0}\n",
      "{'id': 2, 'name': 'Rauf', 'Batch': 3.0}\n"
     ]
    }
   ],
   "source": [
    "d1 = {'id' : 2, \n",
    "    'name' : 'Adan',\n",
    "    'Batch' : 3.0}\n",
    "d2 = d1.copy()\n",
    "print(d1)\n",
    "print(d2)\n",
    "d2['name'] = 'Rauf'\n",
    "print(d1)\n",
    "print(d2)"
   ]
  },
  {
   "cell_type": "code",
   "execution_count": 20,
   "metadata": {},
   "outputs": [
    {
     "name": "stdout",
     "output_type": "stream",
     "text": [
      "{'id': None, 'name': None, 'batch': None}\n"
     ]
    }
   ],
   "source": [
    "l = ['id', 'name', 'batch']\n",
    "d3 = d1.fromkeys(l)\n",
    "print(d3)"
   ]
  },
  {
   "cell_type": "code",
   "execution_count": 23,
   "metadata": {},
   "outputs": [
    {
     "name": "stdout",
     "output_type": "stream",
     "text": [
      "Enter skills: maths,calculus,algebra\n",
      "<class 'str'>\n",
      "<class 'list'>\n",
      "{'id': None, 'name': 'Adan', 'batch': None, 'skills': ['maths', 'calculus', 'algebra']}\n"
     ]
    }
   ],
   "source": [
    "p = input('Enter skills: ')\n",
    "print(type(p))\n",
    "l = p.split(',')\n",
    "print(type(l))\n",
    "d3['skills'] = p.split(',')\n",
    "print(d3)"
   ]
  },
  {
   "cell_type": "code",
   "execution_count": 24,
   "metadata": {},
   "outputs": [
    {
     "name": "stdout",
     "output_type": "stream",
     "text": [
      "{'id': None, 'name': None, 'batch': None}\n"
     ]
    }
   ],
   "source": [
    "d4 ={}\n",
    "l = ['id', 'name', 'batch']\n",
    "for key in l:\n",
    "    d4[key] = None\n",
    "print(d4)"
   ]
  },
  {
   "cell_type": "code",
   "execution_count": 26,
   "metadata": {},
   "outputs": [
    {
     "name": "stdout",
     "output_type": "stream",
     "text": [
      "Enter keys: id,name,batch\n",
      "{'id': None, 'name': None, 'batch': None}\n"
     ]
    }
   ],
   "source": [
    "d5 ={}\n",
    "l = input(\"Enter keys: \").split(',')\n",
    "d6 =d5.fromkeys(l)\n",
    "print(d6)"
   ]
  },
  {
   "cell_type": "code",
   "execution_count": 29,
   "metadata": {},
   "outputs": [
    {
     "name": "stdout",
     "output_type": "stream",
     "text": [
      "Enter keys: id,name,value\n",
      "Enter values: 2,Adan,3.0\n",
      "['id', 'name', 'value']\n",
      "['2', 'Adan', '3.0']\n",
      "{'id': '2', 'name': 'Adan', 'value': '3.0'}\n"
     ]
    }
   ],
   "source": [
    "keys = input(\"Enter keys: \").split(',')\n",
    "values = input(\"Enter values: \").split(',')\n",
    "d6 ={}\n",
    "print(keys)\n",
    "print(values)\n",
    "# range(3) = [0 1 2]\n",
    "for i in range(len(keys)):\n",
    "    d6[keys[i]] = values[i]\n",
    "    \n",
    "print(d6)"
   ]
  },
  {
   "cell_type": "code",
   "execution_count": 3,
   "metadata": {},
   "outputs": [
    {
     "name": "stdout",
     "output_type": "stream",
     "text": [
      "Enter keys: id,name,batchh\n",
      "Enter values: 2,Adan,3.0\n",
      "['id', 'name', 'batchh']\n",
      "['2', 'Adan', '3.0']\n",
      "[('id', '2'), ('name', 'Adan'), ('batchh', '3.0')]\n",
      "{'id': '2', 'name': 'Adan', 'batchh': '3.0'}\n"
     ]
    }
   ],
   "source": [
    "keys = input(\"Enter keys: \").split(',')\n",
    "values = input(\"Enter values: \").split(',')\n",
    "\n",
    "d7= {}\n",
    "print(keys)\n",
    "print(values)\n",
    "print(list(zip(keys,values)))\n",
    "for k,v in list(zip(keys,values)):\n",
    "    d7[k] = v\n",
    "print(d7)"
   ]
  },
  {
   "cell_type": "code",
   "execution_count": 5,
   "metadata": {},
   "outputs": [
    {
     "name": "stdout",
     "output_type": "stream",
     "text": [
      "{'id': '2', 'name': 'Adan', 'batchh': '3.0'}\n"
     ]
    }
   ],
   "source": [
    "d8 = {k:v for k,v in list(zip(keys,values))}\n",
    "print(d8)"
   ]
  },
  {
   "cell_type": "code",
   "execution_count": 7,
   "metadata": {},
   "outputs": [
    {
     "name": "stdout",
     "output_type": "stream",
     "text": [
      "{'id': '2', 'name': 'Adan', 'batchh': '3.0'}\n"
     ]
    }
   ],
   "source": [
    "d9 =dict(zip(keys,values))\n",
    "print(d9)"
   ]
  },
  {
   "cell_type": "code",
   "execution_count": 14,
   "metadata": {},
   "outputs": [
    {
     "name": "stdout",
     "output_type": "stream",
     "text": [
      "['A', 'B', 'C', 'D', 'E', 'F', 'G', 'H', 'I', 'J', 'K', 'L', 'M', 'N', 'O', 'P', 'Q', 'R', 'S', 'T', 'U', 'V', 'W', 'X', 'Y', 'Z']\n",
      "['z', 'y', 'x', 'w', 'v', 'u', 't', 's', 'r', 'q', 'p', 'o', 'n', 'm', 'l', 'k', 'j', 'i', 'h', 'g', 'f', 'e', 'd', 'c', 'b', 'a']\n",
      "[('A', 'z', '0'), ('B', 'y', '1'), ('C', 'x', '2'), ('D', 'w', '3'), ('E', 'v', '4'), ('F', 'u', '5'), ('G', 't', '6'), ('H', 's', '7'), ('I', 'r', '8'), ('J', 'q', '9')]\n"
     ]
    }
   ],
   "source": [
    "a = [chr(i) for i in range(65,91)]\n",
    "b = [chr(i) for i in range(97,123)]\n",
    "c = [chr(i) for i in range(48,58)]\n",
    "print(a)\n",
    "print(sorted(b, reverse = True))\n",
    "d = zip (a,sorted(b, reverse = True),c)\n",
    "print(list(d))"
   ]
  },
  {
   "cell_type": "code",
   "execution_count": 16,
   "metadata": {},
   "outputs": [
    {
     "name": "stdout",
     "output_type": "stream",
     "text": [
      "{'a': 1, 'b': 5, 'c': 2, 'd': 3}\n"
     ]
    }
   ],
   "source": [
    "d9 = {\n",
    "    'a' : 1,\n",
    "    'c' : 5,\n",
    "    'b' : 2,\n",
    "    'd' : 3\n",
    "}\n",
    "print(d9)"
   ]
  },
  {
   "cell_type": "code",
   "execution_count": 24,
   "metadata": {},
   "outputs": [
    {
     "name": "stdout",
     "output_type": "stream",
     "text": [
      "['d', 'c', 'b', 'a']\n",
      "{'d': 3, 'c': 2, 'b': 5, 'a': 1}\n"
     ]
    }
   ],
   "source": [
    "d10 = {}\n",
    "print(sorted(d9.keys(),reverse=True))\n",
    "for k in sorted(d9.keys(),reverse=True):\n",
    "    d10[k] = d9[k]\n",
    "print(d10)"
   ]
  },
  {
   "cell_type": "code",
   "execution_count": 32,
   "metadata": {},
   "outputs": [
    {
     "name": "stdout",
     "output_type": "stream",
     "text": [
      "dict_items([('a', 1), ('b', 5), ('c', 2), ('d', 3)])\n",
      "{'b': 5, 'd': 3, 'c': 2, 'a': 1}\n"
     ]
    }
   ],
   "source": [
    "print(d9.items())\n",
    "t = lambda x: x[1]\n",
    "d11 = {k:v for k,v in sorted(d9.items(),reverse=True,key = t )}\n",
    "print(d11)"
   ]
  },
  {
   "cell_type": "code",
   "execution_count": 34,
   "metadata": {},
   "outputs": [
    {
     "name": "stdout",
     "output_type": "stream",
     "text": [
      "{'b': 5, 'd': 3, 'c': 2, 'a': 1}\n"
     ]
    },
    {
     "ename": "ValueError",
     "evalue": "dictionary update sequence element #0 has length 1; 2 is required",
     "output_type": "error",
     "traceback": [
      "\u001b[1;31m---------------------------------------------------------------------------\u001b[0m",
      "\u001b[1;31mValueError\u001b[0m                                Traceback (most recent call last)",
      "\u001b[1;32m<ipython-input-34-dafe0b250003>\u001b[0m in \u001b[0;36m<module>\u001b[1;34m\u001b[0m\n\u001b[0;32m      2\u001b[0m \u001b[1;33m\u001b[0m\u001b[0m\n\u001b[0;32m      3\u001b[0m \u001b[0md12\u001b[0m \u001b[1;33m=\u001b[0m \u001b[1;33m{\u001b[0m\u001b[1;34m'a'\u001b[0m\u001b[1;33m:\u001b[0m \u001b[1;36m15\u001b[0m\u001b[1;33m,\u001b[0m\u001b[1;34m'e'\u001b[0m\u001b[1;33m:\u001b[0m\u001b[1;36m20\u001b[0m\u001b[1;33m}\u001b[0m\u001b[1;33m\u001b[0m\u001b[1;33m\u001b[0m\u001b[0m\n\u001b[1;32m----> 4\u001b[1;33m \u001b[0md11\u001b[0m\u001b[1;33m.\u001b[0m\u001b[0mupdate\u001b[0m\u001b[1;33m(\u001b[0m\u001b[0md12\u001b[0m\u001b[1;33m.\u001b[0m\u001b[0mkeys\u001b[0m\u001b[1;33m(\u001b[0m\u001b[1;33m)\u001b[0m\u001b[1;33m)\u001b[0m\u001b[1;33m\u001b[0m\u001b[1;33m\u001b[0m\u001b[0m\n\u001b[0m\u001b[0;32m      5\u001b[0m \u001b[0mprint\u001b[0m\u001b[1;33m(\u001b[0m\u001b[0md11\u001b[0m\u001b[1;33m)\u001b[0m\u001b[1;33m\u001b[0m\u001b[1;33m\u001b[0m\u001b[0m\n\u001b[0;32m      6\u001b[0m \u001b[0mprint\u001b[0m\u001b[1;33m(\u001b[0m\u001b[0md12\u001b[0m\u001b[1;33m)\u001b[0m\u001b[1;33m\u001b[0m\u001b[1;33m\u001b[0m\u001b[0m\n",
      "\u001b[1;31mValueError\u001b[0m: dictionary update sequence element #0 has length 1; 2 is required"
     ]
    }
   ],
   "source": []
  },
  {
   "cell_type": "code",
   "execution_count": 40,
   "metadata": {},
   "outputs": [
    {
     "name": "stdout",
     "output_type": "stream",
     "text": [
      "1\n"
     ]
    }
   ],
   "source": [
    "print(d11.get('a','key not availabe'))"
   ]
  },
  {
   "cell_type": "code",
   "execution_count": 41,
   "metadata": {},
   "outputs": [
    {
     "data": {
      "text/plain": [
       "1"
      ]
     },
     "execution_count": 41,
     "metadata": {},
     "output_type": "execute_result"
    }
   ],
   "source": []
  },
  {
   "cell_type": "code",
   "execution_count": null,
   "metadata": {},
   "outputs": [],
   "source": []
  }
 ],
 "metadata": {
  "kernelspec": {
   "display_name": "Python 3",
   "language": "python",
   "name": "python3"
  },
  "language_info": {
   "codemirror_mode": {
    "name": "ipython",
    "version": 3
   },
   "file_extension": ".py",
   "mimetype": "text/x-python",
   "name": "python",
   "nbconvert_exporter": "python",
   "pygments_lexer": "ipython3",
   "version": "3.7.1"
  }
 },
 "nbformat": 4,
 "nbformat_minor": 2
}
